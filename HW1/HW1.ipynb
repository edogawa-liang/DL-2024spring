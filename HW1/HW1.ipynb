{
 "cells": [
  {
   "cell_type": "markdown",
   "metadata": {
    "tags": []
   },
   "source": [
    "# Deep Learning HW1\n",
    "### Image Classification with Multiple Models and Features\n",
    "**數據所碩一 黃亮臻**   \n",
    "\n",
    "- Features Extraction\n",
    "    - Color histograms\n",
    "    - HOG\n",
    "    - BRISK\n",
    "    - ORB\n",
    "      \n",
    "- Model\n",
    "    - KNN\n",
    "    - RF\n",
    "    - AdaBoost\n",
    "    - SVM\n",
    "      \n",
    "\n",
    "- Reference\n",
    "    - [OpenCV Python Tutorials](https://opencv-python-tutorials.readthedocs.io/zh/latest/)\n",
    "    - [OpenCV-with-Python](https://github.com/chewbacca89/OpenCV-with-Python/blob/master/Lecture%205.5%20-%20SIFT%2C%20SURF%2C%20FAST%2C%20BRIEF%20%26%20ORB.ipynb)\n",
    "    - [Bag-of-Words](https://medium.com/@derekliao_62575/nlp%E7%9A%84%E5%9F%BA%E6%9C%AC%E5%9F%B7%E8%A1%8C%E6%AD%A5%E9%A9%9F-ii-bag-of-words-%E8%A9%9E%E8%A2%8B%E8%AA%9E%E8%A8%80%E6%A8%A1%E5%9E%8B-3b670a0c7009)\n",
    "    - [Udacity 電腦視覺](https://medium.com/chiukevin0321/%E4%BA%BA%E8%87%89%E8%BE%A8%E8%AD%98-face-detection-face-recognition-7ba98aaf1a02)"
   ]
  },
  {
   "cell_type": "code",
   "execution_count": null,
   "metadata": {},
   "outputs": [],
   "source": []
  },
  {
   "cell_type": "code",
   "execution_count": 2,
   "metadata": {},
   "outputs": [],
   "source": [
    "# ! pip install opencv-contrib-python==3.4.11.45\n",
    "# ! pip install numpy pandas matplotlib scikit-image scikit-learn"
   ]
  },
  {
   "cell_type": "code",
   "execution_count": 1,
   "metadata": {},
   "outputs": [
    {
     "name": "stdout",
     "output_type": "stream",
     "text": [
      "【Python】 3.11.5\n",
      "【OpenCV】 4.9.0\n",
      "【NumPy】 1.24.3\n",
      "【Scikit-learn】 1.3.0\n"
     ]
    }
   ],
   "source": [
    "import time\n",
    "import numpy as np\n",
    "import cv2\n",
    "import pickle\n",
    "\n",
    "from sklearn.neighbors import KNeighborsClassifier\n",
    "from sklearn.svm import SVC\n",
    "from sklearn.ensemble import AdaBoostClassifier\n",
    "from sklearn.ensemble import RandomForestClassifier\n",
    "from sklearn.metrics import f1_score, accuracy_score\n",
    "\n",
    "from platform import python_version\n",
    "from sklearn import __version__ as sklearn_version\n",
    "\n",
    "from importlib import reload\n",
    "\n",
    "import warnings\n",
    "warnings.filterwarnings(\"ignore\", category=FutureWarning)\n",
    "\n",
    "print(\"【Python】\", python_version())\n",
    "print(\"【OpenCV】\", cv2.__version__)\n",
    "print(\"【NumPy】\", np.__version__)\n",
    "print(\"【Scikit-learn】\", sklearn_version)\n"
   ]
  },
  {
   "cell_type": "code",
   "execution_count": 2,
   "metadata": {},
   "outputs": [
    {
     "data": {
      "text/plain": [
       "<module 'imgModule' from '/Users/liang/Documents/NCKU_DS/DL/imgModule.py'>"
      ]
     },
     "execution_count": 2,
     "metadata": {},
     "output_type": "execute_result"
    }
   ],
   "source": [
    "# 載入影像處理模組: imgModule.py\n",
    "import imgModule\n",
    "reload(imgModule) "
   ]
  },
  {
   "cell_type": "code",
   "execution_count": 4,
   "metadata": {},
   "outputs": [],
   "source": [
    "# 解壓縮檔案\n",
    "# import zipfile\n",
    "# zip = zipfile.ZipFile('/home/liang/DL/HW1/TinyImageNet.zip')\n",
    "# zip.extractall(path='/home/liang/DL/HW1/TinyImageNet')\n",
    "# zip.close()"
   ]
  },
  {
   "cell_type": "code",
   "execution_count": 5,
   "metadata": {},
   "outputs": [],
   "source": [
    "# 讀入檔案\n",
    "image_file = imgModule.OpenImageFile(directory='TinyImageNet/TIN')\n",
    "image_file.path_totxt()\n",
    "x, y = image_file.load_img('train.txt')\n",
    "tx, ty = image_file.load_img('test.txt')"
   ]
  },
  {
   "cell_type": "code",
   "execution_count": 6,
   "metadata": {},
   "outputs": [
    {
     "name": "stdout",
     "output_type": "stream",
     "text": [
      "99600\n",
      "(99600, 256, 256, 3)\n",
      "(99600,)\n",
      "200\n",
      "(200, 256, 256, 3)\n",
      "(200,)\n"
     ]
    }
   ],
   "source": [
    "print(len(x))\n",
    "print(x.shape)\n",
    "print(y.shape)\n",
    "print(len(tx))\n",
    "print(tx.shape)\n",
    "print(ty.shape)"
   ]
  },
  {
   "cell_type": "code",
   "execution_count": 7,
   "metadata": {},
   "outputs": [],
   "source": [
    "# 特徵擷取方法與模型\n",
    "feature_methods = [\"BRIEF\", \"ORB\", \"ColorHist\", \"HOG\", ]\n",
    "ml_methods = {\"SVM\":SVC(), # 若使用SVM 則PCA先降至32維\n",
    "              \"KNN\":KNeighborsClassifier(),\n",
    "              \"RF\": RandomForestClassifier(),\n",
    "              \"AdaBoost\":AdaBoostClassifier()}"
   ]
  },
  {
   "cell_type": "code",
   "execution_count": null,
   "metadata": {},
   "outputs": [
    {
     "name": "stdout",
     "output_type": "stream",
     "text": [
      "BRIEF Done! spend 560 s\n",
      "Use PCA to reduce dimension...\n",
      "- SVM Done! spend 8245 s\n",
      "The model is saved: BRIEF+SVM\n",
      "- KNN Done! spend 215 s\n",
      "- RF Done! spend 186 s\n",
      "- AdaBoost Done! spend 86 s\n",
      "==========================\n",
      "ORB Done! spend 613 s\n",
      "Use PCA to reduce dimension...\n"
     ]
    }
   ],
   "source": [
    "results = {}\n",
    "best_acc = 0\n",
    "best_model_details = {}\n",
    "\n",
    "for feature in feature_methods:\n",
    "    # 提取特徵\n",
    "    f_start_time = time.time()\n",
    "    newfeature = imgModule.FeatureExtractor(feature)\n",
    "    X_train = newfeature.get_feature(x)\n",
    "    X_test = newfeature.get_feature(tx)\n",
    "    feature_dimension = X_train.shape[1]\n",
    "    f_end_time = time.time()\n",
    "    feature_time = f_end_time - f_start_time\n",
    "    print(f'{feature} Done! spend {feature_time:.0f} s')\n",
    "\n",
    "    for ml_name, ml_method in ml_methods.items():\n",
    "        applypca = True if ml_name == \"SVM\" else False\n",
    "        \n",
    "        # 訓練模型\n",
    "        t_start_time = time.time()\n",
    "        model = imgModule.ModelingEvaluate(ml_method, applypca)\n",
    "        train_acc, train_f1 = model.modeling(X_train, y)\n",
    "        t_end_time = time.time()\n",
    "        train_time = t_end_time - t_start_time\n",
    "        print(f'- {ml_name} Done! spend {train_time:.0f} s')\n",
    "\n",
    "        # 評估模型\n",
    "        test_acc, test_f1 = model.evaluate(X_test, ty)\n",
    "\n",
    "        # 儲存表現最好的模型\n",
    "        if test_acc > best_acc:\n",
    "            best_acc = test_acc\n",
    "            model.save_model()\n",
    "            print(f\"The model is saved: {feature}+{ml_name}\")\n",
    "            \n",
    "            # optional\n",
    "            best_model_details = {'feature': feature, 'ml_name': ml_name}\n",
    "            with open(f'best_model_details.pkl', 'wb') as file:\n",
    "                pickle.dump(best_model_details, file)\n",
    "\n",
    "        # 記錄結果\n",
    "        results[(feature, ml_name)] = (feature_dimension, train_acc, train_f1, test_acc, test_f1, feature_time, train_time)\n",
    "    print(\"==========================\")\n"
   ]
  },
  {
   "cell_type": "code",
   "execution_count": null,
   "metadata": {},
   "outputs": [],
   "source": [
    "# 儲存 result 成 pickle\n",
    "with open('results.pkl', 'wb') as f:\n",
    "    pickle.dump(results, f)\n",
    "\n",
    "# with open('results.pkl', 'rb') as f:\n",
    "#     results = pickle.load(f)\n",
    "\n",
    "with open('best_model_details.pkl', 'rb') as f:\n",
    "    details = pickle.load(f)\n",
    "    "
   ]
  },
  {
   "cell_type": "code",
   "execution_count": 15,
   "metadata": {},
   "outputs": [
    {
     "name": "stdout",
     "output_type": "stream",
     "text": [
      "** BRIEF + SVM ** \n",
      "Feature Dimension: 32,\n",
      "Training Accuracy: 0.1363,\n",
      "Training F1: 0.1262,\n",
      "Testing Accuracy: 0.0200,\n",
      "Testing F1: 0.0101,\n",
      "Time for Feature Extraction: 560 s,\n",
      "Time for Training: 8245 s, \n",
      "==================================\n",
      "** BRIEF + KNN ** \n",
      "Feature Dimension: 32,\n",
      "Training Accuracy: 0.2382,\n",
      "Training F1: 0.1972,\n",
      "Testing Accuracy: 0.0050,\n",
      "Testing F1: 0.0050,\n",
      "Time for Feature Extraction: 560 s,\n",
      "Time for Training: 215 s, \n",
      "==================================\n",
      "** BRIEF + RF ** \n",
      "Feature Dimension: 32,\n",
      "Training Accuracy: 0.9989,\n",
      "Training F1: 0.9989,\n",
      "Testing Accuracy: 0.0050,\n",
      "Testing F1: 0.0050,\n",
      "Time for Feature Extraction: 560 s,\n",
      "Time for Training: 186 s, \n",
      "==================================\n",
      "** BRIEF + AdaBoost ** \n",
      "Feature Dimension: 32,\n",
      "Training Accuracy: 0.0296,\n",
      "Training F1: 0.0184,\n",
      "Testing Accuracy: 0.0050,\n",
      "Testing F1: 0.0004,\n",
      "Time for Feature Extraction: 560 s,\n",
      "Time for Training: 86 s, \n",
      "==================================\n",
      "** ORB + SVM ** \n",
      "Feature Dimension: 32,\n",
      "Training Accuracy: 0.1025,\n",
      "Training F1: 0.0911,\n",
      "Testing Accuracy: 0.0100,\n",
      "Testing F1: 0.0039,\n",
      "Time for Feature Extraction: 613 s,\n",
      "Time for Training: 10520 s, \n",
      "==================================\n",
      "** ORB + KNN ** \n",
      "Feature Dimension: 32,\n",
      "Training Accuracy: 0.2217,\n",
      "Training F1: 0.1714,\n",
      "Testing Accuracy: 0.0150,\n",
      "Testing F1: 0.0095,\n",
      "Time for Feature Extraction: 613 s,\n",
      "Time for Training: 452 s, \n",
      "==================================\n",
      "** ORB + RF ** \n",
      "Feature Dimension: 32,\n",
      "Training Accuracy: 0.9974,\n",
      "Training F1: 0.9976,\n",
      "Testing Accuracy: 0.0100,\n",
      "Testing F1: 0.0039,\n",
      "Time for Feature Extraction: 613 s,\n",
      "Time for Training: 245 s, \n",
      "==================================\n",
      "** ORB + AdaBoost ** \n",
      "Feature Dimension: 32,\n",
      "Training Accuracy: 0.0235,\n",
      "Training F1: 0.0127,\n",
      "Testing Accuracy: 0.0050,\n",
      "Testing F1: 0.0025,\n",
      "Time for Feature Extraction: 613 s,\n",
      "Time for Training: 87 s, \n",
      "==================================\n",
      "** ColorHist + SVM ** \n",
      "Feature Dimension: 512,\n",
      "Training Accuracy: 0.1257,\n",
      "Training F1: 0.1052,\n",
      "Testing Accuracy: 0.0800,\n",
      "Testing F1: 0.0520,\n",
      "Time for Feature Extraction: 21 s,\n",
      "Time for Training: 8990 s, \n",
      "==================================\n",
      "** ColorHist + KNN ** \n",
      "Feature Dimension: 512,\n",
      "Training Accuracy: 0.2678,\n",
      "Training F1: 0.2375,\n",
      "Testing Accuracy: 0.0300,\n",
      "Testing F1: 0.0193,\n",
      "Time for Feature Extraction: 21 s,\n",
      "Time for Training: 26 s, \n",
      "==================================\n",
      "** ColorHist + RF ** \n",
      "Feature Dimension: 512,\n",
      "Training Accuracy: 0.9998,\n",
      "Training F1: 0.9998,\n",
      "Testing Accuracy: 0.1050,\n",
      "Testing F1: 0.0722,\n",
      "Time for Feature Extraction: 21 s,\n",
      "Time for Training: 396 s, \n",
      "==================================\n",
      "** ColorHist + AdaBoost ** \n",
      "Feature Dimension: 512,\n",
      "Training Accuracy: 0.0452,\n",
      "Training F1: 0.0272,\n",
      "Testing Accuracy: 0.0150,\n",
      "Testing F1: 0.0081,\n",
      "Time for Feature Extraction: 21 s,\n",
      "Time for Training: 187 s, \n",
      "==================================\n",
      "** HOG + SVM ** \n",
      "Feature Dimension: 405,\n",
      "Training Accuracy: 0.1866,\n",
      "Training F1: 0.2008,\n",
      "Testing Accuracy: 0.0600,\n",
      "Testing F1: 0.0444,\n",
      "Time for Feature Extraction: 210 s,\n",
      "Time for Training: 8454 s, \n",
      "==================================\n",
      "** HOG + KNN ** \n",
      "Feature Dimension: 405,\n",
      "Training Accuracy: 0.2129,\n",
      "Training F1: 0.1839,\n",
      "Testing Accuracy: 0.0150,\n",
      "Testing F1: 0.0070,\n",
      "Time for Feature Extraction: 210 s,\n",
      "Time for Training: 14 s, \n",
      "==================================\n",
      "** HOG + RF ** \n",
      "Feature Dimension: 405,\n",
      "Training Accuracy: 0.9626,\n",
      "Training F1: 0.9761,\n",
      "Testing Accuracy: 0.0450,\n",
      "Testing F1: 0.0259,\n",
      "Time for Feature Extraction: 210 s,\n",
      "Time for Training: 1333 s, \n",
      "==================================\n",
      "** HOG + AdaBoost ** \n",
      "Feature Dimension: 405,\n",
      "Training Accuracy: 0.0259,\n",
      "Training F1: 0.0140,\n",
      "Testing Accuracy: 0.0200,\n",
      "Testing F1: 0.0111,\n",
      "Time for Feature Extraction: 210 s,\n",
      "Time for Training: 504 s, \n",
      "==================================\n"
     ]
    }
   ],
   "source": [
    "for (feature_name, ml_name), (feature_dimension, train_acc, train_f1, test_acc, test_f1, feature_time, train_time) in results.items():\n",
    "    print(f\"** {feature_name} + {ml_name} ** \\n\"\n",
    "          f\"Feature Dimension: {feature_dimension},\\n\"\n",
    "          f\"Training Accuracy: {train_acc:.4f},\\n\"\n",
    "          f\"Training F1: {train_f1:.4f},\\n\"\n",
    "          f\"Testing Accuracy: {test_acc:.4f},\\n\"\n",
    "          f\"Testing F1: {test_f1:.4f},\\n\"\n",
    "          f\"Time for Feature Extraction: {feature_time:.0f} s,\\n\"\n",
    "          f\"Time for Training: {train_time:.0f} s, \\n\"\n",
    "          \"==================================\")"
   ]
  },
  {
   "cell_type": "code",
   "execution_count": null,
   "metadata": {},
   "outputs": [],
   "source": []
  }
 ],
 "metadata": {
  "kernelspec": {
   "display_name": "Python 3 (ipykernel)",
   "language": "python",
   "name": "python3"
  },
  "language_info": {
   "codemirror_mode": {
    "name": "ipython",
    "version": 3
   },
   "file_extension": ".py",
   "mimetype": "text/x-python",
   "name": "python",
   "nbconvert_exporter": "python",
   "pygments_lexer": "ipython3",
   "version": "3.11.5"
  }
 },
 "nbformat": 4,
 "nbformat_minor": 4
}
